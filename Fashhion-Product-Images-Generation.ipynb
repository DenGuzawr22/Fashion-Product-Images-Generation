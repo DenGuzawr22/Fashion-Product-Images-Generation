{
 "cells": [
  {
   "cell_type": "markdown",
   "metadata": {},
   "source": [
    "# Fashion Product Image Generation"
   ]
  },
  {
   "cell_type": "markdown",
   "metadata": {},
   "source": [
    "In this project we will present the deep learning generative models that can generate new images of fashion products.\n",
    "\n",
    "We will use [**TensorFlow**](https://ekababisong.org/gcp-ml-seminar/tensorflow/) framework and [**Keras**](https://keras.io/) open-source library for neural network development"
   ]
  },
  {
   "cell_type": "markdown",
   "metadata": {},
   "source": [
    "## Useful models import"
   ]
  },
  {
   "cell_type": "code",
   "execution_count": 1,
   "metadata": {},
   "outputs": [],
   "source": [
    "import tensorflow as tf\n",
    "from tensorflow import keras\n",
    "import importlib\n",
    "import time\n",
    "import pandas as pd"
   ]
  },
  {
   "cell_type": "markdown",
   "metadata": {},
   "source": [
    "## Utility Functions\n",
    "Execute the following code to define some utility functions used in the tutorial:\n",
    "- 1\n",
    "- 2"
   ]
  },
  {
   "cell_type": "code",
   "execution_count": 5,
   "metadata": {},
   "outputs": [],
   "source": [
    "DATASET_PATH = \"dataset/\"\n",
    "\n",
    "IMG_FOLDER = DATASET_PATH + \"images/images/\"\n",
    "BW_IMG_FOLDER = DATASET_PATH + \"bw/\"\n",
    "BW_IMG_FOLDER_INNER = BW_IMG_FOLDER + \"img/\"\n",
    "\n",
    "COLOR_IMG_FOLDER = DATASET_PATH + \"color/\"\n",
    "\n",
    "def getDataSetPath(file_path):\n",
    "    return DATASET_PATH + file_path\n",
    "\n",
    "def getImagePath(image_id, folder=IMG_FOLDER):\n",
    "    return folder + str(image_id) + \".jpg\""
   ]
  },
  {
   "cell_type": "markdown",
   "metadata": {},
   "source": [
    "## Dataset\n",
    "The [**Fashion Product Images (Small)**](https://www.kaggle.com/datasets/paramaggarwal/fashion-product-images-small?select=styles.csv) dataset, containing 80x60 colorful images of fashion products.\n",
    "\n"
   ]
  },
  {
   "cell_type": "code",
   "execution_count": 17,
   "metadata": {},
   "outputs": [
    {
     "data": {
      "text/plain": [
       "Watches       2541\n",
       "Handbags      1759\n",
       "Sunglasses    1073\n",
       "Flip Flops     916\n",
       "Belts          813\n",
       "Name: articleType, dtype: int64"
      ]
     },
     "execution_count": 17,
     "metadata": {},
     "output_type": "execute_result"
    }
   ],
   "source": [
    "#### Possible classes:\n",
    "\n",
    "# \"Watches\" #2542 !\n",
    "# \"Handbags\" #1759 !\n",
    "# \"Sunglasses\" #1073 !\n",
    "# \"Belts\" #813 !\n",
    "# \"Backpacks\" #724\n",
    "# \"Sarees\" #475\n",
    "# \"Deodorant\" #347\n",
    "# \"Nail Polish\" #329\n",
    "# \"Ties\" #263\n",
    "\n",
    "# \"Sports Shoes\" #2036\n",
    "# \"Flip Flops\" #916 !\n",
    "# \"Formal Shoes\" #637\n",
    "\n",
    "CLASSES = [\"Watches\", \"Handbags\", \"Sunglasses\", \"Belts\", \"Flip Flops\"]\n",
    "\n",
    "def filter_articles(df, classes):\n",
    "    return df[df['articleType'].isin(classes)]\n",
    "\n",
    "df = pd.read_csv(getDataSetPath('styles.csv'), dtype=str)\n",
    "df = df[df.notnull()[\"baseColour\"]] # remove null values from basecolor column\n",
    "\n",
    "df = filter_articles(df, CLASSES)\n",
    "\n",
    "df['articleType'].value_counts()\n",
    "#todo blacklist\n",
    "\n"
   ]
  },
  {
   "cell_type": "markdown",
   "metadata": {},
   "source": [
    "### Color aggregation\n",
    "To be able generate images of a specific color in a stable way we should aggregate similar colors "
   ]
  },
  {
   "cell_type": "code",
   "execution_count": 16,
   "metadata": {},
   "outputs": [
    {
     "name": "stdout",
     "output_type": "stream",
     "text": [
      "before aggreation number of colors:  40\n",
      "After aggreation number of colors:  10\n"
     ]
    },
    {
     "data": {
      "text/plain": [
       "Black     2294\n",
       "White     1598\n",
       "Brown     1021\n",
       "Red        446\n",
       "Blue       431\n",
       "Multi      275\n",
       "Yellow     274\n",
       "Pink       265\n",
       "Green      251\n",
       "Purple     247\n",
       "Name: baseColour, dtype: int64"
      ]
     },
     "execution_count": 16,
     "metadata": {},
     "output_type": "execute_result"
    }
   ],
   "source": [
    "baseColour = \"baseColour\"\n",
    "print(\"before aggreation number of colors: \", len(df[baseColour].value_counts()))\n",
    "\n",
    "df[baseColour] = df[baseColour].replace(\"Lime Green\", \"Green\")\n",
    "df[baseColour] = df[baseColour].replace(\"Fluorescent Green\", \"Green\")\n",
    "df[baseColour] = df[baseColour].replace(\"Sea Green\", \"Green\")\n",
    "df[baseColour] = df[baseColour].replace(\"Teal\", \"Green\")\n",
    "\n",
    "df[baseColour] = df[baseColour].replace(\"Taupe\", \"Grey\")\n",
    "df[baseColour] = df[baseColour].replace(\"Grey Melange\", \"Grey\")\n",
    "df[baseColour] = df[baseColour].replace(\"Steel\", \"Grey\")\n",
    "df[baseColour] = df[baseColour].replace(\"Silver\", \"Grey\")\n",
    "\n",
    "df[baseColour] = df[baseColour].replace(\"Skin\", \"Beige\")\n",
    "\n",
    "df[baseColour] = df[baseColour].replace(\"Grey\", \"White\") # White + Grey\n",
    "df[baseColour] = df[baseColour].replace(\"Beige\", \"White\") # White + Beige\n",
    "df[baseColour] = df[baseColour].replace(\"Off White\", \"White\")\n",
    "\n",
    "df[baseColour] = df[baseColour].replace(\"Mushroom Brown\", \"Brown\")\n",
    "df[baseColour] = df[baseColour].replace(\"Nude\", \"Brown\")\n",
    "df[baseColour] = df[baseColour].replace(\"Coffee Brown\", \"Brown\")\n",
    "df[baseColour] = df[baseColour].replace(\"Burgundy\", \"Brown\")\n",
    "df[baseColour] = df[baseColour].replace(\"Copper\", \"Brown\")\n",
    "df[baseColour] = df[baseColour].replace(\"Bronze\", \"Brown\")\n",
    "df[baseColour] = df[baseColour].replace(\"Tan\", \"Brown\")\n",
    "df[baseColour] = df[baseColour].replace(\"Khaki\", \"Brown\")\n",
    "\n",
    "df[baseColour] = df[baseColour].replace(\"Rose\", \"Red\")\n",
    "df[baseColour] = df[baseColour].replace(\"Orange\", \"Red\")\n",
    "df[baseColour] = df[baseColour].replace(\"Rust\", \"Red\")\n",
    "df[baseColour] = df[baseColour].replace(\"Maroon\", \"Red\")\n",
    "\n",
    "df[baseColour] = df[baseColour].replace(\"Magenta\", \"Pink\")\n",
    "df[baseColour] = df[baseColour].replace(\"Peach\", \"Pink\")\n",
    "\n",
    "df[baseColour] = df[baseColour].replace(\"Mauve\", \"Purple\")\n",
    "df[baseColour] = df[baseColour].replace(\"Lavender\", \"Purple\")\n",
    "\n",
    "df[baseColour] = df[baseColour].replace(\"Metallic\", \"Black\")\n",
    "df[baseColour] = df[baseColour].replace(\"Charcoal\", \"Black\")\n",
    "\n",
    "df[baseColour] = df[baseColour].replace(\"Turquoise Blue\", \"Blue\")\n",
    "\n",
    "df[baseColour] = df[baseColour].replace(\"Mustard\", \"Yellow\")\n",
    "df[baseColour] = df[baseColour].replace(\"Gold\", \"Yellow\")\n",
    "\n",
    "df[baseColour] = df[baseColour].replace(\"Cream\", \"Multi\")\n",
    "df[baseColour] = df[baseColour].replace(\"Olive\", \"Multi\")\n",
    "df[baseColour] = df[baseColour].replace(\"Navy Blue\", \"Multi\")\n",
    "\n",
    "print(\"After aggreation number of colors: \", len(df[baseColour].value_counts()))\n",
    "df[baseColour].value_counts()"
   ]
  },
  {
   "cell_type": "markdown",
   "metadata": {},
   "source": [
    "### Visualization"
   ]
  },
  {
   "cell_type": "code",
   "execution_count": null,
   "metadata": {},
   "outputs": [],
   "source": []
  },
  {
   "cell_type": "markdown",
   "metadata": {},
   "source": [
    "# Autoencoder\n",
    "![Alt text](image.png)"
   ]
  },
  {
   "cell_type": "markdown",
   "metadata": {},
   "source": [
    "## Model definition"
   ]
  },
  {
   "cell_type": "markdown",
   "metadata": {},
   "source": [
    "### Model creation"
   ]
  },
  {
   "cell_type": "markdown",
   "metadata": {},
   "source": [
    "### Model visualization"
   ]
  },
  {
   "cell_type": "markdown",
   "metadata": {},
   "source": [
    "## Model compilation"
   ]
  },
  {
   "cell_type": "markdown",
   "metadata": {},
   "source": [
    "## Training"
   ]
  },
  {
   "cell_type": "markdown",
   "metadata": {},
   "source": [
    "## Performance evaluation\n",
    "\n",
    "For each real label generate one fake img: stddev 4.5\n",
    "\n",
    "Another solution that generate random colors and  and article types have 25-60 standard deviation\n",
    "\n"
   ]
  },
  {
   "cell_type": "markdown",
   "metadata": {},
   "source": [
    "## Generated images"
   ]
  },
  {
   "cell_type": "markdown",
   "metadata": {},
   "source": [
    "# Generative adversarial network (GAN)"
   ]
  },
  {
   "cell_type": "markdown",
   "metadata": {},
   "source": [
    "## Model definition"
   ]
  },
  {
   "cell_type": "markdown",
   "metadata": {},
   "source": [
    "### Model creation"
   ]
  },
  {
   "cell_type": "markdown",
   "metadata": {},
   "source": [
    "### Model visualization"
   ]
  },
  {
   "cell_type": "markdown",
   "metadata": {},
   "source": [
    "## Model compilation"
   ]
  },
  {
   "cell_type": "markdown",
   "metadata": {},
   "source": [
    "## Training"
   ]
  },
  {
   "cell_type": "markdown",
   "metadata": {},
   "source": [
    "## Performance evaluation\n"
   ]
  },
  {
   "cell_type": "markdown",
   "metadata": {},
   "source": [
    "## Generated images"
   ]
  },
  {
   "cell_type": "markdown",
   "metadata": {},
   "source": [
    "# "
   ]
  }
 ],
 "metadata": {
  "kernelspec": {
   "display_name": "DL-10",
   "language": "python",
   "name": "python3"
  },
  "language_info": {
   "codemirror_mode": {
    "name": "ipython",
    "version": 3
   },
   "file_extension": ".py",
   "mimetype": "text/x-python",
   "name": "python",
   "nbconvert_exporter": "python",
   "pygments_lexer": "ipython3",
   "version": "3.10.12"
  },
  "orig_nbformat": 4
 },
 "nbformat": 4,
 "nbformat_minor": 2
}
